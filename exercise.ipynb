{
 "cells": [
  {
   "cell_type": "markdown",
   "id": "cdc9f7af-6ae3-47fc-91f4-18940325bb66",
   "metadata": {},
   "source": [
    "**\"My Jupyter Notebook on Skills Network Lab\"**"
   ]
  },
  {
   "cell_type": "markdown",
   "id": "22659d4c-0975-47d5-8b96-4642514cee85",
   "metadata": {},
   "source": [
    "**Author**\n",
    "- **Danish Ali**\n",
    "- Profession : Student"
   ]
  },
  {
   "cell_type": "markdown",
   "id": "63541cf2-d99c-4180-ae0e-e99581eb0242",
   "metadata": {},
   "source": [
    "*I am intrested in DataScience because I wanted to get a chance to work on challenging problems and develop innovative solutions using statistical and machine learning techniques.*"
   ]
  },
  {
   "cell_type": "markdown",
   "id": "a85ef9ce-36c6-415c-a955-4bf5c2471a91",
   "metadata": {},
   "source": [
    "**Objectives**\n",
    "- To demonstrate what i have learned in the course\n",
    "- To test myself to determine what i have learned so far\n",
    "- To do some practice and get more familiar with working on python with jupyter notebook"
   ]
  },
  {
   "cell_type": "markdown",
   "id": "03031e1d-a589-4b2a-86a1-280d70621809",
   "metadata": {},
   "source": [
    "Here's a markdown cell to list some popular data science languages:\n",
    "\n",
    "- Python\n",
    "- R\n",
    "- SQL\n",
    "- Java\n",
    "- Scala\n",
    "- MATLAB\n",
    "- Julia"
   ]
  },
  {
   "cell_type": "markdown",
   "id": "16e9df94-f8b2-420c-8dcc-1619b13beec4",
   "metadata": {},
   "source": [
    "Here's a markdown cell to list some popular data science libraries:\n",
    "\n",
    "-    Python\n",
    "-   NumPy: numerical computing library\n",
    "-   Pandas: data manipulation library\n",
    "-   Matplotlib: data visualization library\n",
    "-   SciPy: scientific computing library\n",
    "-  Scikit-learn: machine learning library\n",
    "-   TensorFlow: machine learning library for deep learning\n",
    "-   Keras: high-level deep learning library\n",
    "-   PyTorch: machine learning library for deep learning\n",
    "-   R\n",
    "-   ggplot2: data visualization library\n",
    "-   dplyr: data manipulation library\n",
    "-   tidyr: data manipulation library\n",
    "-   data.table: data manipulation library\n",
    "-   caret: machine learning library\n",
    "-   mlr: machine learning library\n",
    "-   tensorflow: machine learning library for deep learning\n"
   ]
  },
  {
   "cell_type": "markdown",
   "id": "2eebaeb9-f916-48a5-bbcd-acecb4ded9a9",
   "metadata": {},
   "source": [
    "**Markdown cell with a table of Data Science tools**\n",
    "\n",
    "| Tools | Description |\n",
    "|------ |-------------|\n",
    "| Jupyter | Open-source web application that allows you to create and share documents with code|\n",
    "| Pandas  | Data manipulation library |\n",
    "| NumPy   | Numerical computing library |\n",
    "| Matplotlib | Data visualization library |"
   ]
  },
  {
   "cell_type": "markdown",
   "id": "6feff519-abcb-43b1-916e-f38b2accac7f",
   "metadata": {},
   "source": [
    "### All of us face difficulty on calculating tips, No More because I am building a tip calculator\n"
   ]
  },
  {
   "cell_type": "code",
   "execution_count": null,
   "id": "15caae4b-bf4f-488d-8c9b-03403d508892",
   "metadata": {},
   "outputs": [
    {
     "name": "stdout",
     "output_type": "stream",
     "text": [
      "Welcome to the tip calculator!\n"
     ]
    }
   ],
   "source": [
    "print('Welcome to the tip calculator!')\n",
    "a = float(input('What was the total bill? $ '))\n",
    "b = int(input('How much tip would you like to give? 10, 12, or 15? '))\n",
    "c = int(input('How many people to split the bill? '))\n",
    "\n",
    "tip_percent = b / 100\n",
    "tip_per_person=a * tip_percent\n",
    "total_bill=a+tip_per_person\n",
    "bill_per_person= total_bill/c\n",
    "\n",
    "ans = str(round(bill_per_person, 2))\n",
    "\n",
    "print(f'Each person should pay: {ans}')"
   ]
  },
  {
   "cell_type": "markdown",
   "id": "b15cab02-48a1-4631-a3e0-ac1ca29dc82e",
   "metadata": {},
   "source": [
    "- Item 1\n",
    "- Item 2\n",
    "- Item 3\n"
   ]
  },
  {
   "cell_type": "markdown",
   "id": "3644df35-f5bd-4800-9a7a-5a076a8cca1f",
   "metadata": {},
   "source": [
    "1. First item\n",
    "2. Second item\n",
    "3. Third item"
   ]
  },
  {
   "cell_type": "markdown",
   "id": "fdf9f363-d98e-464d-830f-3ae92e34c136",
   "metadata": {},
   "source": [
    "--- \n"
   ]
  },
  {
   "cell_type": "code",
   "execution_count": null,
   "id": "ca501b8c-23b8-4bed-a6c7-ab639f4315c3",
   "metadata": {},
   "outputs": [],
   "source": []
  }
 ],
 "metadata": {
  "kernelspec": {
   "display_name": "Python",
   "language": "python",
   "name": "conda-env-python-py"
  },
  "language_info": {
   "codemirror_mode": {
    "name": "ipython",
    "version": 3
   },
   "file_extension": ".py",
   "mimetype": "text/x-python",
   "name": "python",
   "nbconvert_exporter": "python",
   "pygments_lexer": "ipython3",
   "version": "3.7.12"
  }
 },
 "nbformat": 4,
 "nbformat_minor": 5
}
